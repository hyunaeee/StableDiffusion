{
  "nbformat": 4,
  "nbformat_minor": 0,
  "metadata": {
    "colab": {
      "provenance": [],
      "authorship_tag": "ABX9TyOESPobD4Xt19GGISo2wmzo",
      "include_colab_link": true
    },
    "kernelspec": {
      "name": "python3",
      "display_name": "Python 3"
    },
    "language_info": {
      "name": "python"
    }
  },
  "cells": [
    {
      "cell_type": "markdown",
      "metadata": {
        "id": "view-in-github",
        "colab_type": "text"
      },
      "source": [
        "<a href=\"https://colab.research.google.com/github/hyunaeee/StableDiffusion/blob/main/prompt_trainning.ipynb\" target=\"_parent\"><img src=\"https://colab.research.google.com/assets/colab-badge.svg\" alt=\"Open In Colab\"/></a>"
      ]
    },
    {
      "cell_type": "markdown",
      "source": [
        "스쿨룩\n",
        "\n",
        "positive:\n",
        "best quality, ultra high res, (photorealistic:1.4), 1girl,school uniform,cute,(platinum blonde grey hair:1), ((puffy eyes)), looking at viewer, full body\n",
        "\n",
        "negative:\n",
        "paintings, sketches, (worst quality:2), (low quality:2), (normal quality:2), lowres, normal quality, ((monochrome)), ((grayscale)), skin spots, acnes, skin blemishes, age spot, glans, nsfw,\n"
      ],
      "metadata": {
        "id": "DUFeRmjDqbxr"
      }
    },
    {
      "cell_type": "markdown",
      "source": [
        "내 캐릭터 (조정중)\n",
        "positive:\n",
        "best quality, ultra high res, (photorealistic:1.4), 1girl, black hoodie, cute, hacker, light smile, (icy back  hair:1), black eyes, ((puffy eyes)), looking at viewer, full body, plaits\n",
        "\n",
        "N: (일단은 그대로)\n",
        "paintings, sketches, (worst quality:2), (low quality:2), (normal quality:2), lowres, normal quality, ((monochrome)), ((grayscale)), skin spots, acnes, skin blemishes, age spot, glans, nsfw,"
      ],
      "metadata": {
        "id": "3pzXyd0lP-GX"
      }
    },
    {
      "cell_type": "markdown",
      "source": [
        "<`<hair style>`>\n",
        "plait(s), french plait, ponytail, bun, curly, perm, long, wavy, cornrows, bob, shoulder-length, bald head, shaved head, braids, pigtails, strait,\n",
        "\n",
        "<'<hair color'>\n",
        "https://en.wikipedia.org/wiki/Human_hair_color\n",
        "\n",
        "<'<color>'>\n",
        "https://www.color-meanings.com/list-of-colors-names-hex-codes/\n",
        "\n",
        "<'<fashion>'>\n",
        "https://capitalizemytitle.com/words-related-to-fashion/\n",
        "\n",
        "<'<job>'>\n",
        "https://www.mymajors.com/career-list/\n",
        "\n",
        "<'<keywords for midjourney>'>\n",
        "https://sprinkleofai.com/keywords-midjourney-portrait-prompts/#camera-angles\n",
        "\n",
        "<'<animal>'>\n",
        "https://a-z-animals.com/animals/\n",
        "\n",
        "<'<country>'>\n",
        "https://www.britannica.com/topic/list-of-countries-1993160\n",
        "\n",
        "** ABOUT the RACE\n",
        "OMB requires five minimum categories (White, Black or African American, American Indian or Alaska Native, Asian, and Native Hawaiian or Other Pacific Islander) for race."
      ],
      "metadata": {
        "id": "dOR7F_uBxqMM"
      }
    },
    {
      "cell_type": "code",
      "source": [],
      "metadata": {
        "id": "eXeUQg5IzHTS"
      },
      "execution_count": null,
      "outputs": []
    }
  ]
}